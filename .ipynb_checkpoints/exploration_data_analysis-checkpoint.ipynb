{
 "cells": [
  {
   "cell_type": "code",
   "execution_count": 7,
   "metadata": {},
   "outputs": [],
   "source": [
    "import pandas as pd\n",
    "import matplotlib.pyplot as plt\n",
    "import seaborn as sns\n",
    "%matplotlib inline"
   ]
  },
  {
   "cell_type": "code",
   "execution_count": 8,
   "metadata": {},
   "outputs": [],
   "source": [
    "df = pd.read_csv('df_final.csv')"
   ]
  },
  {
   "cell_type": "code",
   "execution_count": 9,
   "metadata": {},
   "outputs": [
    {
     "data": {
      "text/html": [
       "<div>\n",
       "<style scoped>\n",
       "    .dataframe tbody tr th:only-of-type {\n",
       "        vertical-align: middle;\n",
       "    }\n",
       "\n",
       "    .dataframe tbody tr th {\n",
       "        vertical-align: top;\n",
       "    }\n",
       "\n",
       "    .dataframe thead th {\n",
       "        text-align: right;\n",
       "    }\n",
       "</style>\n",
       "<table border=\"1\" class=\"dataframe\">\n",
       "  <thead>\n",
       "    <tr style=\"text-align: right;\">\n",
       "      <th></th>\n",
       "      <th>Job Title</th>\n",
       "      <th>Salary Estimate</th>\n",
       "      <th>Job Description</th>\n",
       "      <th>Rating</th>\n",
       "      <th>Company Name</th>\n",
       "      <th>Location</th>\n",
       "      <th>Size</th>\n",
       "      <th>Founded</th>\n",
       "      <th>Type of ownership</th>\n",
       "      <th>Industry</th>\n",
       "      <th>...</th>\n",
       "      <th>sql_yn</th>\n",
       "      <th>python_yn</th>\n",
       "      <th>r_yn</th>\n",
       "      <th>spark_yn</th>\n",
       "      <th>aws_yn</th>\n",
       "      <th>excel_yn</th>\n",
       "      <th>tableau_yn</th>\n",
       "      <th>powerbi_yn</th>\n",
       "      <th>kafka_yn</th>\n",
       "      <th>snowflake_yn</th>\n",
       "    </tr>\n",
       "  </thead>\n",
       "  <tbody>\n",
       "    <tr>\n",
       "      <th>0</th>\n",
       "      <td>Finance Data Analyst - Growth and Forecasting</td>\n",
       "      <td>£45K - £50K (Glassdoor est.)</td>\n",
       "      <td>What you'll be doing:\\nAt TransferWise, we've ...</td>\n",
       "      <td>4.3</td>\n",
       "      <td>TransferWise\\n4.3</td>\n",
       "      <td>London, England</td>\n",
       "      <td>1001 to 5000 Employees</td>\n",
       "      <td>2011</td>\n",
       "      <td>Company - Private</td>\n",
       "      <td>Financial Transaction Processing</td>\n",
       "      <td>...</td>\n",
       "      <td>1</td>\n",
       "      <td>1</td>\n",
       "      <td>0</td>\n",
       "      <td>0</td>\n",
       "      <td>0</td>\n",
       "      <td>1</td>\n",
       "      <td>0</td>\n",
       "      <td>0</td>\n",
       "      <td>0</td>\n",
       "      <td>0</td>\n",
       "    </tr>\n",
       "    <tr>\n",
       "      <th>1</th>\n",
       "      <td>Data &amp; Insights Analyst</td>\n",
       "      <td>£25K - £53K (Glassdoor est.)</td>\n",
       "      <td>Job Title: Data &amp; Insights Analyst\\n\\nLocation...</td>\n",
       "      <td>4.5</td>\n",
       "      <td>Liberis\\n4.5</td>\n",
       "      <td>London, England</td>\n",
       "      <td>51 to 200 Employees</td>\n",
       "      <td>2007</td>\n",
       "      <td>Company - Private</td>\n",
       "      <td>Lending</td>\n",
       "      <td>...</td>\n",
       "      <td>1</td>\n",
       "      <td>1</td>\n",
       "      <td>1</td>\n",
       "      <td>0</td>\n",
       "      <td>0</td>\n",
       "      <td>1</td>\n",
       "      <td>1</td>\n",
       "      <td>1</td>\n",
       "      <td>0</td>\n",
       "      <td>0</td>\n",
       "    </tr>\n",
       "    <tr>\n",
       "      <th>2</th>\n",
       "      <td>Asset Management Data Analyst</td>\n",
       "      <td>£35K - £58K (Glassdoor est.)</td>\n",
       "      <td>If you consider yourself to be a data expert w...</td>\n",
       "      <td>4.3</td>\n",
       "      <td>Southern Housing Group\\n4.3</td>\n",
       "      <td>London, England</td>\n",
       "      <td>1001 to 5000 Employees</td>\n",
       "      <td>1901</td>\n",
       "      <td>Nonprofit Organization</td>\n",
       "      <td>Construction</td>\n",
       "      <td>...</td>\n",
       "      <td>0</td>\n",
       "      <td>0</td>\n",
       "      <td>0</td>\n",
       "      <td>0</td>\n",
       "      <td>0</td>\n",
       "      <td>1</td>\n",
       "      <td>0</td>\n",
       "      <td>0</td>\n",
       "      <td>0</td>\n",
       "      <td>0</td>\n",
       "    </tr>\n",
       "    <tr>\n",
       "      <th>3</th>\n",
       "      <td>Data Analyst</td>\n",
       "      <td>£50K - £60K (Glassdoor est.)</td>\n",
       "      <td>Streetbees is building the world’s first platf...</td>\n",
       "      <td>4.0</td>\n",
       "      <td>Streetbees\\n4.0</td>\n",
       "      <td>London, England</td>\n",
       "      <td>51 to 200 Employees</td>\n",
       "      <td>2015</td>\n",
       "      <td>Company - Private</td>\n",
       "      <td>Research &amp; Development</td>\n",
       "      <td>...</td>\n",
       "      <td>1</td>\n",
       "      <td>1</td>\n",
       "      <td>0</td>\n",
       "      <td>0</td>\n",
       "      <td>0</td>\n",
       "      <td>1</td>\n",
       "      <td>0</td>\n",
       "      <td>0</td>\n",
       "      <td>0</td>\n",
       "      <td>0</td>\n",
       "    </tr>\n",
       "    <tr>\n",
       "      <th>4</th>\n",
       "      <td>Data Analyst</td>\n",
       "      <td>£59K - £61K (Glassdoor est.)</td>\n",
       "      <td>Kick-start your career in the online gaming wo...</td>\n",
       "      <td>3.6</td>\n",
       "      <td>Betway Group\\n3.6</td>\n",
       "      <td>London, England</td>\n",
       "      <td>501 to 1000 Employees</td>\n",
       "      <td>2006</td>\n",
       "      <td>Company - Private</td>\n",
       "      <td>Advertising &amp; Marketing</td>\n",
       "      <td>...</td>\n",
       "      <td>1</td>\n",
       "      <td>0</td>\n",
       "      <td>0</td>\n",
       "      <td>0</td>\n",
       "      <td>0</td>\n",
       "      <td>1</td>\n",
       "      <td>1</td>\n",
       "      <td>0</td>\n",
       "      <td>0</td>\n",
       "      <td>0</td>\n",
       "    </tr>\n",
       "  </tbody>\n",
       "</table>\n",
       "<p>5 rows × 31 columns</p>\n",
       "</div>"
      ],
      "text/plain": [
       "                                       Job Title  \\\n",
       "0  Finance Data Analyst - Growth and Forecasting   \n",
       "1                        Data & Insights Analyst   \n",
       "2                  Asset Management Data Analyst   \n",
       "3                                   Data Analyst   \n",
       "4                                   Data Analyst   \n",
       "\n",
       "                Salary Estimate  \\\n",
       "0  £45K - £50K (Glassdoor est.)   \n",
       "1  £25K - £53K (Glassdoor est.)   \n",
       "2  £35K - £58K (Glassdoor est.)   \n",
       "3  £50K - £60K (Glassdoor est.)   \n",
       "4  £59K - £61K (Glassdoor est.)   \n",
       "\n",
       "                                     Job Description  Rating  \\\n",
       "0  What you'll be doing:\\nAt TransferWise, we've ...     4.3   \n",
       "1  Job Title: Data & Insights Analyst\\n\\nLocation...     4.5   \n",
       "2  If you consider yourself to be a data expert w...     4.3   \n",
       "3  Streetbees is building the world’s first platf...     4.0   \n",
       "4  Kick-start your career in the online gaming wo...     3.6   \n",
       "\n",
       "                  Company Name         Location                    Size  \\\n",
       "0            TransferWise\\n4.3  London, England  1001 to 5000 Employees   \n",
       "1                 Liberis\\n4.5  London, England     51 to 200 Employees   \n",
       "2  Southern Housing Group\\n4.3  London, England  1001 to 5000 Employees   \n",
       "3              Streetbees\\n4.0  London, England     51 to 200 Employees   \n",
       "4            Betway Group\\n3.6  London, England   501 to 1000 Employees   \n",
       "\n",
       "   Founded       Type of ownership                          Industry  ...  \\\n",
       "0     2011       Company - Private  Financial Transaction Processing  ...   \n",
       "1     2007       Company - Private                           Lending  ...   \n",
       "2     1901  Nonprofit Organization                      Construction  ...   \n",
       "3     2015       Company - Private            Research & Development  ...   \n",
       "4     2006       Company - Private           Advertising & Marketing  ...   \n",
       "\n",
       "  sql_yn python_yn r_yn spark_yn aws_yn  excel_yn  tableau_yn  powerbi_yn  \\\n",
       "0      1         1    0        0      0         1           0           0   \n",
       "1      1         1    1        0      0         1           1           1   \n",
       "2      0         0    0        0      0         1           0           0   \n",
       "3      1         1    0        0      0         1           0           0   \n",
       "4      1         0    0        0      0         1           1           0   \n",
       "\n",
       "  kafka_yn snowflake_yn  \n",
       "0        0            0  \n",
       "1        0            0  \n",
       "2        0            0  \n",
       "3        0            0  \n",
       "4        0            0  \n",
       "\n",
       "[5 rows x 31 columns]"
      ]
     },
     "execution_count": 9,
     "metadata": {},
     "output_type": "execute_result"
    }
   ],
   "source": [
    "df.head()"
   ]
  },
  {
   "cell_type": "code",
   "execution_count": 10,
   "metadata": {},
   "outputs": [
    {
     "name": "stdout",
     "output_type": "stream",
     "text": [
      "<class 'pandas.core.frame.DataFrame'>\n",
      "RangeIndex: 333 entries, 0 to 332\n",
      "Data columns (total 31 columns):\n",
      " #   Column             Non-Null Count  Dtype  \n",
      "---  ------             --------------  -----  \n",
      " 0   Job Title          333 non-null    object \n",
      " 1   Salary Estimate    333 non-null    object \n",
      " 2   Job Description    333 non-null    object \n",
      " 3   Rating             333 non-null    float64\n",
      " 4   Company Name       333 non-null    object \n",
      " 5   Location           333 non-null    object \n",
      " 6   Size               333 non-null    object \n",
      " 7   Founded            333 non-null    int64  \n",
      " 8   Type of ownership  333 non-null    object \n",
      " 9   Industry           333 non-null    object \n",
      " 10  Sector             333 non-null    object \n",
      " 11  Revenue            333 non-null    object \n",
      " 12  job_title_short    333 non-null    object \n",
      " 13  seniority          333 non-null    object \n",
      " 14  business_domain    333 non-null    object \n",
      " 15  min_salary         333 non-null    int64  \n",
      " 16  max_salary         333 non-null    int64  \n",
      " 17  avg_salary         333 non-null    float64\n",
      " 18  company_name       333 non-null    object \n",
      " 19  city               333 non-null    object \n",
      " 20  company_age        333 non-null    int64  \n",
      " 21  sql_yn             333 non-null    int64  \n",
      " 22  python_yn          333 non-null    int64  \n",
      " 23  r_yn               333 non-null    int64  \n",
      " 24  spark_yn           333 non-null    int64  \n",
      " 25  aws_yn             333 non-null    int64  \n",
      " 26  excel_yn           333 non-null    int64  \n",
      " 27  tableau_yn         333 non-null    int64  \n",
      " 28  powerbi_yn         333 non-null    int64  \n",
      " 29  kafka_yn           333 non-null    int64  \n",
      " 30  snowflake_yn       333 non-null    int64  \n",
      "dtypes: float64(2), int64(14), object(15)\n",
      "memory usage: 80.8+ KB\n"
     ]
    }
   ],
   "source": [
    "df.info()"
   ]
  },
  {
   "cell_type": "code",
   "execution_count": 16,
   "metadata": {},
   "outputs": [
    {
     "data": {
      "text/plain": [
       "<matplotlib.axes._subplots.AxesSubplot at 0x7feb422c6d90>"
      ]
     },
     "execution_count": 16,
     "metadata": {},
     "output_type": "execute_result"
    },
    {
     "data": {
      "image/png": "[encoded data removed]",
      "text/plain": [
       "<Figure size 432x288 with 1 Axes>"
      ]
     },
     "metadata": {
      "needs_background": "light"
     },
     "output_type": "display_data"
    }
   ],
   "source": [
    "sns.countplot(x='job_title_short', data=df)"
   ]
  },
  {
   "cell_type": "code",
   "execution_count": 40,
   "metadata": {},
   "outputs": [
    {
     "data": {
      "text/plain": [
       "<matplotlib.axes._subplots.AxesSubplot at 0x7feb43eea650>"
      ]
     },
     "execution_count": 40,
     "metadata": {},
     "output_type": "execute_result"
    },
    {
     "data": {
      "image/png": "[encoded data removed]",
      "text/plain": [
       "<Figure size 432x288 with 1 Axes>"
      ]
     },
     "metadata": {
      "needs_background": "light"
     },
     "output_type": "display_data"
    }
   ],
   "source": [
    "sns.countplot(x='seniority', data=df, order=df['seniority'].value_counts().index)"
   ]
  },
  {
   "cell_type": "code",
   "execution_count": 51,
   "metadata": {},
   "outputs": [
    {
     "data": {
      "text/plain": [
       "[Text(0, 0, 'London'),\n",
       " Text(0, 0, 'Milton Keynes'),\n",
       " Text(0, 0, 'Hatfield'),\n",
       " Text(0, 0, 'Maidenhead'),\n",
       " Text(0, 0, 'Heathrow'),\n",
       " Text(0, 0, 'Hammersmith'),\n",
       " Text(0, 0, 'Teddington'),\n",
       " Text(0, 0, 'Slough'),\n",
       " Text(0, 0, 'Richmond'),\n",
       " Text(0, 0, 'Welwyn Garden City'),\n",
       " Text(0, 0, 'Uxbridge'),\n",
       " Text(0, 0, 'Stratford'),\n",
       " Text(0, 0, 'Luton'),\n",
       " Text(0, 0, 'Ware'),\n",
       " Text(0, 0, 'Ealing'),\n",
       " Text(0, 0, 'Southwark'),\n",
       " Text(0, 0, 'Richmond upon Thames'),\n",
       " Text(0, 0, 'Watford'),\n",
       " Text(0, 0, 'Hemel Hempstead'),\n",
       " Text(0, 0, 'Dartford'),\n",
       " Text(0, 0, 'Knightsbridge'),\n",
       " Text(0, 0, 'Kingston upon Thames'),\n",
       " Text(0, 0, 'City of London'),\n",
       " Text(0, 0, 'Egham')]"
      ]
     },
     "execution_count": 51,
     "metadata": {},
     "output_type": "execute_result"
    },
    {
     "data": {
      "image/png": "[encoded data removed]",
      "text/plain": [
       "<Figure size 1440x288 with 1 Axes>"
      ]
     },
     "metadata": {
      "needs_background": "light"
     },
     "output_type": "display_data"
    }
   ],
   "source": [
    "plt.figure(figsize=(20,4))\n",
    "city = sns.countplot(x='city', data=df, order=df['city'].value_counts().index)\n",
    "city.set_xticklabels(city.get_xticklabels(), rotation=30)"
   ]
  },
  {
   "cell_type": "code",
   "execution_count": null,
   "metadata": {},
   "outputs": [],
   "source": []
  }
 ],
 "metadata": {
  "kernelspec": {
   "display_name": "Python 3",
   "language": "python",
   "name": "python3"
  },
  "language_info": {
   "codemirror_mode": {
    "name": "ipython",
    "version": 3
   },
   "file_extension": ".py",
   "mimetype": "text/x-python",
   "name": "python",
   "nbconvert_exporter": "python",
   "pygments_lexer": "ipython3",
   "version": "3.7.6"
  }
 },
 "nbformat": 4,
 "nbformat_minor": 4
}
